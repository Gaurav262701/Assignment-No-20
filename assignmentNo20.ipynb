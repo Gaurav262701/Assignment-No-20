{
 "cells": [
  {
   "cell_type": "markdown",
   "id": "ce1889fa",
   "metadata": {},
   "source": [
    "\n",
    "# Assignment 20 Solutions"
   ]
  },
  {
   "cell_type": "raw",
   "id": "a035babe",
   "metadata": {},
   "source": [
    "1.Create a function that takes a list of strings and integers, and filters out the list so that it returns a list of integers only."
   ]
  },
  {
   "cell_type": "code",
   "execution_count": 1,
   "id": "e2be0f66",
   "metadata": {},
   "outputs": [
    {
     "name": "stdout",
     "output_type": "stream",
     "text": [
      "output -- [1, 2, 3, 4]\n",
      "output -- [0, 1729]\n",
      "output -- []\n"
     ]
    }
   ],
   "source": [
    "def filter_list(in_list):\n",
    "    out_list = []\n",
    "    for i in in_list:\n",
    "        if type(i) == int:\n",
    "            out_list.append(i)\n",
    "    print(f'output -- {out_list}')\n",
    "    \n",
    "filter_list([1,2,3,\"a\",\"b\",4])\n",
    "filter_list([\"A\",0,\"Edabit\",1729,\"python\",\"1729\"])\n",
    "filter_list([\"Nothing\",\"here\"])"
   ]
  },
  {
   "cell_type": "raw",
   "id": "c9134078",
   "metadata": {},
   "source": [
    "2.Given a list of numbers, create a function which returns the list but with each element's index in the list added to itself. This means you add 0 to the number at index 0, add 1 to the number at index 1, etc..."
   ]
  },
  {
   "cell_type": "code",
   "execution_count": 2,
   "id": "14c41f72",
   "metadata": {},
   "outputs": [
    {
     "name": "stdout",
     "output_type": "stream",
     "text": [
      "[0, 0, 0, 0, 0]--[0, 1, 2, 3, 4]\n",
      "[1, 2, 3, 4, 5]--[1, 3, 5, 7, 9]\n",
      "[5, 4, 3, 2, 1]--[5, 5, 5, 5, 5]\n"
     ]
    }
   ],
   "source": [
    "def add_indexes(in_list):\n",
    "    out_list = []\n",
    "    for i in range(len(in_list)):\n",
    "        out_list.append(i+in_list[i])\n",
    "    print(f'{in_list}--{out_list}')\n",
    "add_indexes([0,0,0,0,0])\n",
    "add_indexes([1,2,3,4,5])\n",
    "add_indexes([5,4,3,2,1])\n"
   ]
  },
  {
   "cell_type": "raw",
   "id": "2cfe4377",
   "metadata": {},
   "source": [
    "3.Create a function that takes the height and radius of a cone as arguments and returns the volume of the cone rounded to the nearest hundredth. See the resources tab for the formula."
   ]
  },
  {
   "cell_type": "code",
   "execution_count": 3,
   "id": "6779f83e",
   "metadata": {},
   "outputs": [
    {
     "name": "stdout",
     "output_type": "stream",
     "text": [
      "output--12.57\n",
      "output--565.49\n",
      "output--0.00\n"
     ]
    }
   ],
   "source": [
    "import math\n",
    "def cube_volume(height,radius):\n",
    "    output = ((math.pi)*pow(radius,2))*(height/3)\n",
    "    print(f'output--{output:.2f}')\n",
    "cube_volume(3,2)\n",
    "cube_volume(15,6)\n",
    "cube_volume(18,0)"
   ]
  },
  {
   "cell_type": "raw",
   "id": "77ca4b57",
   "metadata": {},
   "source": [
    "4.This Triangular Number Sequence is generated from a pattern of dots that form a triangle."
   ]
  },
  {
   "cell_type": "code",
   "execution_count": 4,
   "id": "27d25a0c",
   "metadata": {},
   "outputs": [
    {
     "name": "stdout",
     "output_type": "stream",
     "text": [
      "output--1\n",
      "output--21\n",
      "output--23220\n"
     ]
    }
   ],
   "source": [
    "def triangle(in_num):\n",
    "    print(f'output--{int((in_num)*((in_num+1)/2))}')\n",
    "triangle(1)\n",
    "triangle(6)\n",
    "triangle(215)"
   ]
  },
  {
   "cell_type": "raw",
   "id": "3b683287",
   "metadata": {},
   "source": [
    "5.Create a function that takes a list of numbers between 1 and 10 (excluding one number) and returns the missing number."
   ]
  },
  {
   "cell_type": "code",
   "execution_count": 5,
   "id": "da2d53f5",
   "metadata": {},
   "outputs": [
    {
     "name": "stdout",
     "output_type": "stream",
     "text": [
      "[1, 2, 3, 4, 6, 7, 8, 9, 10]--5\n",
      "[7, 2, 3, 6, 5, 9, 1, 4, 8]--10\n",
      "[10, 5, 1, 2, 4, 6, 8, 3, 9]--7\n"
     ]
    }
   ],
   "source": [
    "def missing_num(in_list):\n",
    "    for i in range(1,11):\n",
    "        if i not in in_list:\n",
    "            print(f'{in_list}--{i}')\n",
    "missing_num([1,2,3,4,6,7,8,9,10])\n",
    "missing_num([7,2,3,6,5,9,1,4,8])\n",
    "missing_num([10,5,1,2,4,6,8,3,9])"
   ]
  },
  {
   "cell_type": "code",
   "execution_count": null,
   "id": "d5edcb33",
   "metadata": {},
   "outputs": [],
   "source": []
  }
 ],
 "metadata": {
  "kernelspec": {
   "display_name": "Python 3 (ipykernel)",
   "language": "python",
   "name": "python3"
  },
  "language_info": {
   "codemirror_mode": {
    "name": "ipython",
    "version": 3
   },
   "file_extension": ".py",
   "mimetype": "text/x-python",
   "name": "python",
   "nbconvert_exporter": "python",
   "pygments_lexer": "ipython3",
   "version": "3.9.12"
  }
 },
 "nbformat": 4,
 "nbformat_minor": 5
}
